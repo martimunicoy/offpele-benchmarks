{
 "cells": [
  {
   "cell_type": "markdown",
   "metadata": {},
   "source": [
    "# PELEMinimizer example\n",
    "Example that shows how to use PELEMinimizer to minimize an `offpele` Molecule object."
   ]
  },
  {
   "cell_type": "code",
   "execution_count": 1,
   "metadata": {},
   "outputs": [],
   "source": [
    "from offpele.topology import Molecule"
   ]
  },
  {
   "cell_type": "code",
   "execution_count": 2,
   "metadata": {},
   "outputs": [
    {
     "name": "stderr",
     "output_type": "stream",
     "text": [
      " - Initializing molecule from a SMILES tag\n",
      "   - Loading molecule from RDKit\n",
      "   - Representing molecule with the Open Force Field Toolkit\n",
      "Warning: Unable to load toolkit 'OpenEye Toolkit'. The Open Force Field Toolkit does not require the OpenEye Toolkits, and can use RDKit/AmberTools instead. However, if you have a valid license for the OpenEye Toolkits, consider installing them for faster performance and additional file format support: https://docs.eyesopen.com/toolkits/python/quickstart-python/linuxosx.html OpenEye offers free Toolkit licenses for academics: https://www.eyesopen.com/academic-licensing\n"
     ]
    },
    {
     "data": {
      "application/vnd.jupyter.widget-view+json": {
       "model_id": "7353ea58da304e399fc4e8c857213b3b",
       "version_major": 2,
       "version_minor": 0
      },
      "text/plain": []
     },
     "metadata": {},
     "output_type": "display_data"
    },
    {
     "name": "stderr",
     "output_type": "stream",
     "text": [
      " - Generating rotamer library\n"
     ]
    },
    {
     "data": {
      "image/png": "[encoded data removed]",
      "text/plain": [
       "<rdkit.Chem.rdchem.Mol at 0x7fa8b592a8f0>"
      ]
     },
     "metadata": {},
     "output_type": "display_data"
    },
    {
     "name": "stderr",
     "output_type": "stream",
     "text": [
      " - Loading forcefield\n",
      " - Computing partial charges with gasteiger\n"
     ]
    }
   ],
   "source": [
    "# Load molecule\n",
    "mol = Molecule(smiles='C', name='methane')\n",
    "display(mol)\n",
    "\n",
    "# Parameterize molecule\n",
    "mol.parameterize('openff_unconstrained-1.2.1.offxml',\n",
    "                 charges_method='gasteiger')"
   ]
  },
  {
   "cell_type": "code",
   "execution_count": 3,
   "metadata": {},
   "outputs": [],
   "source": [
    "from offpelebenchmarktools.utils.pele import PELEMinimization"
   ]
  },
  {
   "cell_type": "code",
   "execution_count": 4,
   "metadata": {},
   "outputs": [],
   "source": [
    "pele_minimization = PELEMinimization(\n",
    "    PELE_exec='/home/municoy/builds/PELE/PELE-repo_serial/PELE-1.6',\n",
    "    PELE_src='/home/municoy/repos/PELE-repo/',\n",
    "    PELE_license='/home/municoy/builds/PELE/license')"
   ]
  },
  {
   "cell_type": "code",
   "execution_count": 5,
   "metadata": {},
   "outputs": [
    {
     "name": "stderr",
     "output_type": "stream",
     "text": [
      " - Loading solvent parameters\n"
     ]
    }
   ],
   "source": [
    "output_file = pele_minimization.run(mol)"
   ]
  },
  {
   "cell_type": "code",
   "execution_count": 6,
   "metadata": {},
   "outputs": [
    {
     "name": "stdout",
     "output_type": "stream",
     "text": [
      "PELE version 1.6.1.${BUILD_TAG}\n",
      "PELE (Protein Energy Landscape Exploration)\n",
      "\n",
      "Copyright 2010-2020 BARCELONA SUPERCOMPUTING CENTER.\n",
      "\n",
      "See the COPYRIGHT file at the top-level directory of this distribution.\n",
      "\n",
      "Documents already created\n",
      "Data already created\n",
      "Data and Documents check completed...\n",
      "validation: PASS\n",
      "Creating macro...\n",
      "----Building Complex----\n",
      "- Building a new chain.\n",
      "----  Complex built ----\n",
      "Running macro...\n",
      "\n",
      "ENERGY BOND: 0.249055796092272\n",
      "ENERGY ANGLE: 0.462526049342168\n",
      "ENERGY TORSION: 0\n",
      "ENERGY 14: 0\n",
      "ENERGY NBOND: 0\n",
      "ENERGY CONSTRAINTS: 0\n",
      "ENERGY VACUUM + CONSTRAINTS: 0.711581845434439\n",
      "Running minimization:\n",
      "The line search converged normally and the convergence test was passed, so TN has converged!\n",
      "TN has converged!\n",
      "Minimization has converged in TN iteration: 1!\n",
      "Final energy = 0.03715384766149\n",
      "abs(delta_E) = 0.6744279977729\n",
      "totalNewtonIterations: 1\n",
      "totalInnerLoops: 2\n",
      "totalOuterLoops: 2\n",
      "\n",
      "ENERGY BOND: 2.44269252201475e-07\n",
      "ENERGY ANGLE: 0.0371536033922383\n",
      "ENERGY TORSION: 0\n",
      "ENERGY 14: 0\n",
      "ENERGY NBOND: 0\n",
      "ENERGY CONSTRAINTS: 0\n",
      "ENERGY VACUUM + CONSTRAINTS: 0.0371538476614905\n",
      "\n",
      "---------------------------------------------\n",
      "\\(^o^)/ Macro ended successfully! \\(^o^)/ \n",
      "---------------------------------------------\n",
      "\n"
     ]
    }
   ],
   "source": [
    "with open(output_file) as f:\n",
    "    print(f.read())"
   ]
  }
 ],
 "metadata": {
  "kernelspec": {
   "display_name": "Python 3",
   "language": "python",
   "name": "python3"
  },
  "language_info": {
   "codemirror_mode": {
    "name": "ipython",
    "version": 3
   },
   "file_extension": ".py",
   "mimetype": "text/x-python",
   "name": "python",
   "nbconvert_exporter": "python",
   "pygments_lexer": "ipython3",
   "version": "3.7.8"
  }
 },
 "nbformat": 4,
 "nbformat_minor": 4
}
