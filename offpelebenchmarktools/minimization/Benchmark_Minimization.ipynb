{
 "cells": [
  {
   "cell_type": "code",
   "execution_count": 1,
   "metadata": {},
   "outputs": [],
   "source": [
    "# Local imports\n",
    "from getter import QCPortal\n",
    "from minimize import Minimizer\n",
    "from offpelebenchmarktools.utils.pele import PELEBaseJob, PELEMinimization\n",
    "from offpele.topology import Molecule\n",
    "from utils_benchmark import MinimizationBenchmark\n",
    "# External imports\n",
    "import argparse\n",
    "import os"
   ]
  },
  {
   "cell_type": "code",
   "execution_count": 2,
   "metadata": {},
   "outputs": [
    {
     "name": "stdout",
     "output_type": "stream",
     "text": [
      "Skipping ligand 382. [Errno 2] No such file or directory: 'SET1/PELE/382/minimized.pdb'\n",
      "Skipping ligand 706. [Errno 2] No such file or directory: 'SET1/PELE/706/minimized.pdb'\n",
      "Skipping ligand 303. [Errno 2] No such file or directory: 'SET1/PELE/303/minimized.pdb'\n",
      "Skipping ligand 164. [Errno 2] No such file or directory: 'SET1/PELE/164/minimized.pdb'\n",
      "Skipping ligand 37. [Errno 2] No such file or directory: 'SET1/PELE/37/minimized.pdb'\n",
      "Skipping ligand 79. [Errno 2] No such file or directory: 'SET1/PELE/79/minimized.pdb'\n"
     ]
    },
    {
     "data": {
      "image/png": "[encoded data removed]",
      "text/plain": [
       "<Figure size 720x504 with 1 Axes>"
      ]
     },
     "metadata": {
      "needs_background": "light"
     },
     "output_type": "display_data"
    }
   ],
   "source": [
    "benchmark = MinimizationBenchmark(\n",
    "        dataset = 'SMIRNOFF Coverage Set 1',\n",
    "        out_folder = 'SET1')\n",
    "#benchmark.run(filter_structures = True)\n",
    "benchmark.compute_RMSD2()"
   ]
  },
  {
   "cell_type": "code",
   "execution_count": null,
   "metadata": {},
   "outputs": [],
   "source": []
  }
 ],
 "metadata": {
  "kernelspec": {
   "display_name": "Python 3",
   "language": "python",
   "name": "python3"
  },
  "language_info": {
   "codemirror_mode": {
    "name": "ipython",
    "version": 3
   },
   "file_extension": ".py",
   "mimetype": "text/x-python",
   "name": "python",
   "nbconvert_exporter": "python",
   "pygments_lexer": "ipython3",
   "version": "3.7.8"
  }
 },
 "nbformat": 4,
 "nbformat_minor": 4
}
