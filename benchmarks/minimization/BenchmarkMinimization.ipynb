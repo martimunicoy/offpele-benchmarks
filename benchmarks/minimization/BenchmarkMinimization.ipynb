{
 "cells": [
  {
   "cell_type": "code",
   "execution_count": 1,
   "metadata": {},
   "outputs": [],
   "source": [
    "# Local imports\n",
    "from getter import QCPortal\n",
    "from minimize import Minimizer\n",
    "from peleffybenchmarktools.utils.pele import PELEBaseJob, PELEMinimization\n",
    "from peleffy.topology import Molecule\n",
    "from utils_benchmark import MinimizationBenchmark\n",
    "\n",
    "# External imports\n",
    "import argparse\n",
    "import os"
   ]
  },
  {
   "cell_type": "markdown",
   "metadata": {},
   "source": [
    "## Available Optimization Datasets from QCPortal"
   ]
  },
  {
   "cell_type": "code",
   "execution_count": 2,
   "metadata": {},
   "outputs": [
    {
     "data": {
      "text/html": [
       "<div>\n",
       "<style scoped>\n",
       "    .dataframe tbody tr th:only-of-type {\n",
       "        vertical-align: middle;\n",
       "    }\n",
       "\n",
       "    .dataframe tbody tr th {\n",
       "        vertical-align: top;\n",
       "    }\n",
       "\n",
       "    .dataframe thead th {\n",
       "        text-align: right;\n",
       "    }\n",
       "</style>\n",
       "<table border=\"1\" class=\"dataframe\">\n",
       "  <thead>\n",
       "    <tr style=\"text-align: right;\">\n",
       "      <th></th>\n",
       "      <th></th>\n",
       "      <th>tagline</th>\n",
       "    </tr>\n",
       "    <tr>\n",
       "      <th>collection</th>\n",
       "      <th>name</th>\n",
       "      <th></th>\n",
       "    </tr>\n",
       "  </thead>\n",
       "  <tbody>\n",
       "    <tr>\n",
       "      <th rowspan=\"23\" valign=\"top\">OptimizationDataset</th>\n",
       "      <th>FDA Optimization Dataset 1</th>\n",
       "      <td>None</td>\n",
       "    </tr>\n",
       "    <tr>\n",
       "      <th>JGI Metabolite Set 1</th>\n",
       "      <td>None</td>\n",
       "    </tr>\n",
       "    <tr>\n",
       "      <th>Kinase Inhibitors: WBO Distributions</th>\n",
       "      <td>None</td>\n",
       "    </tr>\n",
       "    <tr>\n",
       "      <th>OpenFF Discrepancy Benchmark 1</th>\n",
       "      <td>None</td>\n",
       "    </tr>\n",
       "    <tr>\n",
       "      <th>OpenFF Ehrman Informative Optimization v0.1</th>\n",
       "      <td>None</td>\n",
       "    </tr>\n",
       "    <tr>\n",
       "      <th>OpenFF Ehrman Informative Optimization v0.2</th>\n",
       "      <td>None</td>\n",
       "    </tr>\n",
       "    <tr>\n",
       "      <th>OpenFF Full Optimization Benchmark 1</th>\n",
       "      <td>None</td>\n",
       "    </tr>\n",
       "    <tr>\n",
       "      <th>OpenFF Gen 2 Opt Set 1 Roche</th>\n",
       "      <td>None</td>\n",
       "    </tr>\n",
       "    <tr>\n",
       "      <th>OpenFF Gen 2 Opt Set 2 Coverage</th>\n",
       "      <td>None</td>\n",
       "    </tr>\n",
       "    <tr>\n",
       "      <th>OpenFF Gen 2 Opt Set 3 Pfizer Discrepancy</th>\n",
       "      <td>None</td>\n",
       "    </tr>\n",
       "    <tr>\n",
       "      <th>OpenFF Gen 2 Opt Set 4 eMolecules Discrepancy</th>\n",
       "      <td>None</td>\n",
       "    </tr>\n",
       "    <tr>\n",
       "      <th>OpenFF Gen 2 Opt Set 5 Bayer</th>\n",
       "      <td>None</td>\n",
       "    </tr>\n",
       "    <tr>\n",
       "      <th>OpenFF NCI250K Boron 1</th>\n",
       "      <td>None</td>\n",
       "    </tr>\n",
       "    <tr>\n",
       "      <th>OpenFF Optimization Set 1</th>\n",
       "      <td>None</td>\n",
       "    </tr>\n",
       "    <tr>\n",
       "      <th>OpenFF Primary Optimization Benchmark 1</th>\n",
       "      <td>None</td>\n",
       "    </tr>\n",
       "    <tr>\n",
       "      <th>OpenFF Protein Fragments v1.0</th>\n",
       "      <td>Constrained optimization of various protein fr...</td>\n",
       "    </tr>\n",
       "    <tr>\n",
       "      <th>OpenFF Protein Fragments v2.0</th>\n",
       "      <td>Constrained optimization of various protein fr...</td>\n",
       "    </tr>\n",
       "    <tr>\n",
       "      <th>OpenFF Sandbox CHO PhAlkEthOH v1.0</th>\n",
       "      <td>A diverse set of small CHO molecules</td>\n",
       "    </tr>\n",
       "    <tr>\n",
       "      <th>OpenFF VEHICLe Set 1</th>\n",
       "      <td>None</td>\n",
       "    </tr>\n",
       "    <tr>\n",
       "      <th>PEI</th>\n",
       "      <td>None</td>\n",
       "    </tr>\n",
       "    <tr>\n",
       "      <th>Pfizer Discrepancy Optimization Dataset 1</th>\n",
       "      <td>None</td>\n",
       "    </tr>\n",
       "    <tr>\n",
       "      <th>QM8-T</th>\n",
       "      <td>None</td>\n",
       "    </tr>\n",
       "    <tr>\n",
       "      <th>SMIRNOFF Coverage Set 1</th>\n",
       "      <td>None</td>\n",
       "    </tr>\n",
       "  </tbody>\n",
       "</table>\n",
       "</div>"
      ],
      "text/plain": [
       "                                                                                                             tagline\n",
       "collection          name                                                                                            \n",
       "OptimizationDataset FDA Optimization Dataset 1                                                                  None\n",
       "                    JGI Metabolite Set 1                                                                        None\n",
       "                    Kinase Inhibitors: WBO Distributions                                                        None\n",
       "                    OpenFF Discrepancy Benchmark 1                                                              None\n",
       "                    OpenFF Ehrman Informative Optimization v0.1                                                 None\n",
       "                    OpenFF Ehrman Informative Optimization v0.2                                                 None\n",
       "                    OpenFF Full Optimization Benchmark 1                                                        None\n",
       "                    OpenFF Gen 2 Opt Set 1 Roche                                                                None\n",
       "                    OpenFF Gen 2 Opt Set 2 Coverage                                                             None\n",
       "                    OpenFF Gen 2 Opt Set 3 Pfizer Discrepancy                                                   None\n",
       "                    OpenFF Gen 2 Opt Set 4 eMolecules Discrepancy                                               None\n",
       "                    OpenFF Gen 2 Opt Set 5 Bayer                                                                None\n",
       "                    OpenFF NCI250K Boron 1                                                                      None\n",
       "                    OpenFF Optimization Set 1                                                                   None\n",
       "                    OpenFF Primary Optimization Benchmark 1                                                     None\n",
       "                    OpenFF Protein Fragments v1.0                  Constrained optimization of various protein fr...\n",
       "                    OpenFF Protein Fragments v2.0                  Constrained optimization of various protein fr...\n",
       "                    OpenFF Sandbox CHO PhAlkEthOH v1.0                          A diverse set of small CHO molecules\n",
       "                    OpenFF VEHICLe Set 1                                                                        None\n",
       "                    PEI                                                                                         None\n",
       "                    Pfizer Discrepancy Optimization Dataset 1                                                   None\n",
       "                    QM8-T                                                                                       None\n",
       "                    SMIRNOFF Coverage Set 1                                                                     None"
      ]
     },
     "execution_count": 2,
     "metadata": {},
     "output_type": "execute_result"
    }
   ],
   "source": [
    "import qcportal as ptl\n",
    "\n",
    "# List all the available OptimizationnDatasets in the QCPortal\n",
    "client = ptl.FractalClient()\n",
    "client.list_collections(\"OptimizationDataset\")"
   ]
  },
  {
   "cell_type": "markdown",
   "metadata": {},
   "source": [
    "## Minimization Benchmark with SMIRNOFF Coverage Set 1\n",
    "\n",
    "- **SET 1**: Filtered structures (only structures with a non null phase constant) with optimized geometry. → It contains 260 structures.\n",
    "\n",
    "- **SET 2**: FIltered structures (only structures with a non null phase constant) with non-optimized geometry. → It containds 260 structures.\n",
    "\n",
    "- **SET 3**: Non-filtered structures with optimized geometry. → It contains 823 structures. \n",
    "\n",
    "Results shown for each set: \n",
    "\n",
    "- Structural Histogram between initial and final structure after running a PELE simulation showing the RMSD between the two structures.\n",
    "\n",
    "- Energetic Histogram between initial and final structure after running a PELE simulation showing the energetic difference between the two structures."
   ]
  },
  {
   "cell_type": "markdown",
   "metadata": {},
   "source": [
    "### Results for SET 1"
   ]
  },
  {
   "cell_type": "code",
   "execution_count": 3,
   "metadata": {},
   "outputs": [],
   "source": [
    "benchmark_SET1 = MinimizationBenchmark(\n",
    "        dataset = 'SMIRNOFF Coverage Set 1',\n",
    "        out_folder = 'SET1')\n",
    "#benchmark.run(filter_structures = True)"
   ]
  },
  {
   "cell_type": "code",
   "execution_count": 4,
   "metadata": {},
   "outputs": [
    {
     "data": {
      "image/png": "[encoded data removed]",
      "text/plain": [
       "<Figure size 720x504 with 1 Axes>"
      ]
     },
     "metadata": {
      "needs_background": "light"
     },
     "output_type": "display_data"
    }
   ],
   "source": [
    "benchmark_SET1.compute_RMSD()"
   ]
  },
  {
   "cell_type": "code",
   "execution_count": 5,
   "metadata": {},
   "outputs": [
    {
     "data": {
      "image/png": "[encoded data removed]",
      "text/plain": [
       "<Figure size 720x504 with 1 Axes>"
      ]
     },
     "metadata": {
      "needs_background": "light"
     },
     "output_type": "display_data"
    }
   ],
   "source": [
    "benchmark_SET1.energetic_difference()"
   ]
  },
  {
   "cell_type": "markdown",
   "metadata": {},
   "source": [
    "### Results for SET 2"
   ]
  },
  {
   "cell_type": "code",
   "execution_count": 6,
   "metadata": {},
   "outputs": [],
   "source": [
    "benchmark_SET2 = MinimizationBenchmark(\n",
    "        dataset = 'SMIRNOFF Coverage Set 1',\n",
    "        out_folder = 'SET2')\n",
    "#benchmark.run(filter_structures = True)"
   ]
  },
  {
   "cell_type": "code",
   "execution_count": 7,
   "metadata": {},
   "outputs": [
    {
     "data": {
      "image/png": "[encoded data removed]",
      "text/plain": [
       "<Figure size 720x504 with 1 Axes>"
      ]
     },
     "metadata": {
      "needs_background": "light"
     },
     "output_type": "display_data"
    }
   ],
   "source": [
    "benchmark_SET2.compute_RMSD()"
   ]
  },
  {
   "cell_type": "code",
   "execution_count": 8,
   "metadata": {},
   "outputs": [
    {
     "data": {
      "image/png": "[encoded data removed]",
      "text/plain": [
       "<Figure size 720x504 with 1 Axes>"
      ]
     },
     "metadata": {
      "needs_background": "light"
     },
     "output_type": "display_data"
    }
   ],
   "source": [
    "benchmark_SET2.energetic_difference()"
   ]
  },
  {
   "cell_type": "markdown",
   "metadata": {},
   "source": [
    "### Results for SET 3"
   ]
  },
  {
   "cell_type": "code",
   "execution_count": 9,
   "metadata": {},
   "outputs": [],
   "source": [
    "benchmark_SET3 = MinimizationBenchmark(\n",
    "        dataset = 'SMIRNOFF Coverage Set 1',\n",
    "        out_folder = 'SET3')\n",
    "#benchmark.run(filter_structures = False)"
   ]
  },
  {
   "cell_type": "code",
   "execution_count": 10,
   "metadata": {},
   "outputs": [
    {
     "data": {
      "image/png": "[encoded data removed]",
      "text/plain": [
       "<Figure size 720x504 with 1 Axes>"
      ]
     },
     "metadata": {
      "needs_background": "light"
     },
     "output_type": "display_data"
    }
   ],
   "source": [
    "benchmark_SET3.compute_RMSD()"
   ]
  },
  {
   "cell_type": "code",
   "execution_count": 11,
   "metadata": {},
   "outputs": [
    {
     "data": {
      "image/png": "[encoded data removed]",
      "text/plain": [
       "<Figure size 720x504 with 1 Axes>"
      ]
     },
     "metadata": {
      "needs_background": "light"
     },
     "output_type": "display_data"
    }
   ],
   "source": [
    "benchmark_SET3.energetic_difference()"
   ]
  },
  {
   "cell_type": "code",
   "execution_count": null,
   "metadata": {},
   "outputs": [],
   "source": []
  }
 ],
 "metadata": {
  "kernelspec": {
   "display_name": "Python 3",
   "language": "python",
   "name": "python3"
  },
  "language_info": {
   "codemirror_mode": {
    "name": "ipython",
    "version": 3
   },
   "file_extension": ".py",
   "mimetype": "text/x-python",
   "name": "python",
   "nbconvert_exporter": "python",
   "pygments_lexer": "ipython3",
   "version": "3.7.8"
  }
 },
 "nbformat": 4,
 "nbformat_minor": 4
}
